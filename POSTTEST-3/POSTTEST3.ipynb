{
  "nbformat": 4,
  "nbformat_minor": 0,
  "metadata": {
    "colab": {
      "provenance": []
    },
    "kernelspec": {
      "name": "python3",
      "display_name": "Python 3"
    },
    "language_info": {
      "name": "python"
    }
  },
  "cells": [
    {
      "cell_type": "code",
      "execution_count": 15,
      "metadata": {
        "id": "Tzu1OGFM8Liy"
      },
      "outputs": [],
      "source": [
        "import pandas as pd\n",
        "import seaborn as sns\n",
        "import matplotlib.pyplot as plt\n",
        "from sklearn.preprocessing import MinMaxScaler\n",
        "from sklearn.model_selection import train_test_split"
      ]
    },
    {
      "cell_type": "code",
      "source": [
        "df=pd.read_csv(\"enhanced_anxiety_dataset.csv\")\n",
        "print(\"Jumlah record:\", df.shape[0])\n",
        "print(\"Jumlah kolom:\", df.shape[1])\n",
        "print(\"\\nCek nilai kosong (missing values):\")\n",
        "print(df.isnull().sum())\n",
        "print(\"\\nJumlah data duplikat:\", df.duplicated().sum())"
      ],
      "metadata": {
        "colab": {
          "base_uri": "https://localhost:8080/"
        },
        "id": "rw3-cVEM8zYT",
        "outputId": "01cb3d73-c289-459a-f325-9339e13aeeed"
      },
      "execution_count": 4,
      "outputs": [
        {
          "output_type": "stream",
          "name": "stdout",
          "text": [
            "Jumlah record: 11000\n",
            "Jumlah kolom: 19\n",
            "\n",
            "Cek nilai kosong (missing values):\n",
            "Age                                  0\n",
            "Gender                               0\n",
            "Occupation                           0\n",
            "Sleep Hours                          0\n",
            "Physical Activity (hrs/week)         0\n",
            "Caffeine Intake (mg/day)             0\n",
            "Alcohol Consumption (drinks/week)    0\n",
            "Smoking                              0\n",
            "Family History of Anxiety            0\n",
            "Stress Level (1-10)                  0\n",
            "Heart Rate (bpm)                     0\n",
            "Breathing Rate (breaths/min)         0\n",
            "Sweating Level (1-5)                 0\n",
            "Dizziness                            0\n",
            "Medication                           0\n",
            "Therapy Sessions (per month)         0\n",
            "Recent Major Life Event              0\n",
            "Diet Quality (1-10)                  0\n",
            "Anxiety Level (1-10)                 0\n",
            "dtype: int64\n",
            "\n",
            "Jumlah data duplikat: 0\n"
          ]
        }
      ]
    },
    {
      "cell_type": "code",
      "source": [
        "numeric_cols = df.select_dtypes(include=['int64','float64']).columns\n",
        "\n",
        "for col in numeric_cols:\n",
        "    Q1 = df[col].quantile(0.25)\n",
        "    Q3 = df[col].quantile(0.75)\n",
        "    IQR = Q3 - Q1\n",
        "    lower = Q1 - 1.5 * IQR\n",
        "    upper = Q3 + 1.5 * IQR\n",
        "\n",
        "    # Cek banyak outlier\n",
        "    outliers = ((df[col] < lower) | (df[col] > upper)).sum()\n",
        "    print(f\"\\nKolom: {col} → Jumlah outlier: {outliers}\")\n"
      ],
      "metadata": {
        "colab": {
          "base_uri": "https://localhost:8080/"
        },
        "id": "cNV6hJpc96qO",
        "outputId": "fa3aa8b0-cb14-4c49-eb94-ff16ed966d11"
      },
      "execution_count": 5,
      "outputs": [
        {
          "output_type": "stream",
          "name": "stdout",
          "text": [
            "\n",
            "Kolom: Age → Jumlah outlier: 0\n",
            "\n",
            "Kolom: Sleep Hours → Jumlah outlier: 110\n",
            "\n",
            "Kolom: Physical Activity (hrs/week) → Jumlah outlier: 56\n",
            "\n",
            "Kolom: Caffeine Intake (mg/day) → Jumlah outlier: 0\n",
            "\n",
            "Kolom: Alcohol Consumption (drinks/week) → Jumlah outlier: 0\n",
            "\n",
            "Kolom: Stress Level (1-10) → Jumlah outlier: 0\n",
            "\n",
            "Kolom: Heart Rate (bpm) → Jumlah outlier: 0\n",
            "\n",
            "Kolom: Breathing Rate (breaths/min) → Jumlah outlier: 0\n",
            "\n",
            "Kolom: Sweating Level (1-5) → Jumlah outlier: 0\n",
            "\n",
            "Kolom: Therapy Sessions (per month) → Jumlah outlier: 178\n",
            "\n",
            "Kolom: Diet Quality (1-10) → Jumlah outlier: 0\n",
            "\n",
            "Kolom: Anxiety Level (1-10) → Jumlah outlier: 322\n"
          ]
        }
      ]
    },
    {
      "cell_type": "code",
      "source": [
        "numeric_cols = df.select_dtypes(include=['int64', 'float64']).columns\n",
        "\n",
        "for col in numeric_cols:\n",
        "    Q1 = df[col].quantile(0.25)\n",
        "    Q3 = df[col].quantile(0.75)\n",
        "    IQR = Q3 - Q1\n",
        "    lower = Q1 - 1.5 * IQR\n",
        "    upper = Q3 + 1.5 * IQR\n",
        "\n",
        "    # Jumlah outlier\n",
        "    outliers = ((df[col] < lower) | (df[col] > upper)).sum()\n",
        "    print(f\"{col}: {outliers} outlier ditemukan\")\n",
        "\n",
        "    # Hapus outlier\n",
        "    df = df[(df[col] >= lower) & (df[col] <= upper)]\n",
        "\n",
        "print(\"\\nDataset setelah menghapus outlier:\", df.shape)"
      ],
      "metadata": {
        "colab": {
          "base_uri": "https://localhost:8080/"
        },
        "id": "jv0L8V_q-Jec",
        "outputId": "5df69cf5-d2da-4ed1-85f4-eaa9fd1deaad"
      },
      "execution_count": 6,
      "outputs": [
        {
          "output_type": "stream",
          "name": "stdout",
          "text": [
            "Age: 0 outlier ditemukan\n",
            "Sleep Hours: 110 outlier ditemukan\n",
            "Physical Activity (hrs/week): 56 outlier ditemukan\n",
            "Caffeine Intake (mg/day): 0 outlier ditemukan\n",
            "Alcohol Consumption (drinks/week): 0 outlier ditemukan\n",
            "Stress Level (1-10): 0 outlier ditemukan\n",
            "Heart Rate (bpm): 0 outlier ditemukan\n",
            "Breathing Rate (breaths/min): 0 outlier ditemukan\n",
            "Sweating Level (1-5): 0 outlier ditemukan\n",
            "Therapy Sessions (per month): 165 outlier ditemukan\n",
            "Diet Quality (1-10): 0 outlier ditemukan\n",
            "Anxiety Level (1-10): 252 outlier ditemukan\n",
            "\n",
            "Dataset setelah menghapus outlier: (10417, 19)\n"
          ]
        }
      ]
    },
    {
      "cell_type": "markdown",
      "source": [
        "1. Data Cleaning (Handling Missing Value, Duplicate, dan Outlier)\n",
        "\n",
        "Tahap data cleaning bertujuan untuk memastikan dataset bersih dan siap dianalisis. Proses ini meliputi penanganan missing value (nilai kosong) yang dapat dihapus atau diganti dengan nilai rata-rata agar tidak menimbulkan bias, penghapusan duplicate record agar tidak terjadi pengulangan data yang dapat memengaruhi hasil analisis, serta penanganan outlier menggunakan metode seperti IQR (Interquartile Range) untuk menghapus data ekstrem yang menyimpang jauh dari distribusi normal. Dengan melakukan pembersihan ini, kualitas dan keandalan data menjadi lebih baik."
      ],
      "metadata": {
        "id": "1_EzZW_pBEpW"
      }
    },
    {
      "cell_type": "code",
      "source": [
        "num_cols = df.select_dtypes(include=['int64', 'float64']).columns\n",
        "\n",
        "# Buat objek scaler\n",
        "scaler = MinMaxScaler()\n",
        "\n",
        "# Lakukan normalisasi\n",
        "df[num_cols] = scaler.fit_transform(df[num_cols])\n",
        "\n",
        "print(\"Data setelah normalisasi:\")\n",
        "print(df.head())\n"
      ],
      "metadata": {
        "colab": {
          "base_uri": "https://localhost:8080/"
        },
        "id": "ap64ayqD-o9j",
        "outputId": "163b35d8-5cd4-49ae-f555-dd33d0362904"
      },
      "execution_count": 9,
      "outputs": [
        {
          "output_type": "stream",
          "name": "stdout",
          "text": [
            "Data setelah normalisasi:\n",
            "        Age  Gender Occupation  Sleep Hours  Physical Activity (hrs/week)  \\\n",
            "0  0.239130  Female     Artist     0.387097                      0.329268   \n",
            "1  0.608696   Other      Nurse     0.419355                      0.695122   \n",
            "2  1.000000    Male      Other     0.225806                      0.451220   \n",
            "3  0.043478  Female  Scientist     0.354839                      0.341463   \n",
            "4  0.673913  Female      Other     0.741935                      0.280488   \n",
            "\n",
            "   Caffeine Intake (mg/day)  Alcohol Consumption (drinks/week) Smoking  \\\n",
            "0                  0.302170                           0.526316     Yes   \n",
            "1                  0.333890                           0.421053     Yes   \n",
            "2                  0.195326                           0.210526      No   \n",
            "3                  0.601002                           0.315789     Yes   \n",
            "4                  0.412354                           0.210526     Yes   \n",
            "\n",
            "  Family History of Anxiety  Stress Level (1-10)  Heart Rate (bpm)  \\\n",
            "0                        No             1.000000          0.915254   \n",
            "1                       Yes             0.000000          0.033898   \n",
            "2                       Yes             0.000000          0.525424   \n",
            "3                        No             0.333333          0.440678   \n",
            "4                        No             0.000000          0.644068   \n",
            "\n",
            "   Breathing Rate (breaths/min)  Sweating Level (1-5) Dizziness Medication  \\\n",
            "0                      0.117647                  0.75        No        Yes   \n",
            "1                      0.647059                  0.25       Yes         No   \n",
            "2                      0.941176                  0.50        No         No   \n",
            "3                      0.294118                  0.50        No         No   \n",
            "4                      0.411765                  0.75       Yes        Yes   \n",
            "\n",
            "   Therapy Sessions (per month) Recent Major Life Event  Diet Quality (1-10)  \\\n",
            "0                         0.375                     Yes             0.666667   \n",
            "1                         0.250                      No             0.777778   \n",
            "2                         0.125                     Yes             0.000000   \n",
            "3                         0.000                      No             0.000000   \n",
            "4                         0.125                      No             0.222222   \n",
            "\n",
            "   Anxiety Level (1-10)  \n",
            "0                 0.500  \n",
            "1                 0.250  \n",
            "2                 0.000  \n",
            "3                 0.125  \n",
            "4                 0.000  \n"
          ]
        }
      ]
    },
    {
      "cell_type": "markdown",
      "source": [
        "2. Normalisasi / Standarisasi Kolom Numerik\n",
        "\n",
        "Normalisasi atau standarisasi dilakukan untuk menyamakan skala antar fitur numerik sehingga tidak ada satu kolom yang mendominasi analisis atau proses pembelajaran model. Teknik ini biasanya mengubah data agar memiliki rata-rata (mean) = 0 dan standar deviasi = 1. Dengan cara ini, semua fitur numerik berada dalam rentang yang seimbang dan model machine learning dapat belajar secara optimal tanpa bias terhadap variabel dengan nilai besar."
      ],
      "metadata": {
        "id": "d9Mmd7kFBIzV"
      }
    },
    {
      "cell_type": "code",
      "source": [
        "cat_cols = df.select_dtypes(include=['object']).columns\n",
        "print(\"Kolom kategorikal:\", cat_cols.tolist())\n",
        "\n",
        "# ======  One-Hot Encoding (paling umum untuk kategori nominal) ======\n",
        "# drop_first=True untuk menghindari dummy variable trap\n",
        "df_encoded = pd.get_dummies(df, columns=cat_cols, drop_first=True)\n",
        "\n",
        "print(\"\\n Dataset setelah encoding:\")\n",
        "print(df_encoded.head())\n",
        "\n",
        "# ======  Info tambahan ======\n",
        "print(\"\\nJumlah kolom sebelum encoding:\", len(df.columns))\n",
        "print(\"Jumlah kolom sesudah encoding:\", len(df_encoded.columns))"
      ],
      "metadata": {
        "colab": {
          "base_uri": "https://localhost:8080/"
        },
        "id": "3S494px3-2cb",
        "outputId": "84f8e0cc-f3ed-4674-a272-60d9dacea405"
      },
      "execution_count": 13,
      "outputs": [
        {
          "output_type": "stream",
          "name": "stdout",
          "text": [
            "Kolom kategorikal: ['Gender', 'Occupation', 'Smoking', 'Family History of Anxiety', 'Dizziness', 'Medication', 'Recent Major Life Event']\n",
            "\n",
            " Dataset setelah encoding:\n",
            "        Age  Sleep Hours  Physical Activity (hrs/week)  \\\n",
            "0  0.239130     0.387097                      0.329268   \n",
            "1  0.608696     0.419355                      0.695122   \n",
            "2  1.000000     0.225806                      0.451220   \n",
            "3  0.043478     0.354839                      0.341463   \n",
            "4  0.673913     0.741935                      0.280488   \n",
            "\n",
            "   Caffeine Intake (mg/day)  Alcohol Consumption (drinks/week)  \\\n",
            "0                  0.302170                           0.526316   \n",
            "1                  0.333890                           0.421053   \n",
            "2                  0.195326                           0.210526   \n",
            "3                  0.601002                           0.315789   \n",
            "4                  0.412354                           0.210526   \n",
            "\n",
            "   Stress Level (1-10)  Heart Rate (bpm)  Breathing Rate (breaths/min)  \\\n",
            "0             1.000000          0.915254                      0.117647   \n",
            "1             0.000000          0.033898                      0.647059   \n",
            "2             0.000000          0.525424                      0.941176   \n",
            "3             0.333333          0.440678                      0.294118   \n",
            "4             0.000000          0.644068                      0.411765   \n",
            "\n",
            "   Sweating Level (1-5)  Therapy Sessions (per month)  ...  Occupation_Nurse  \\\n",
            "0                  0.75                         0.375  ...             False   \n",
            "1                  0.25                         0.250  ...              True   \n",
            "2                  0.50                         0.125  ...             False   \n",
            "3                  0.50                         0.000  ...             False   \n",
            "4                  0.75                         0.125  ...             False   \n",
            "\n",
            "   Occupation_Other  Occupation_Scientist  Occupation_Student  \\\n",
            "0             False                 False               False   \n",
            "1             False                 False               False   \n",
            "2              True                 False               False   \n",
            "3             False                  True               False   \n",
            "4              True                 False               False   \n",
            "\n",
            "   Occupation_Teacher  Smoking_Yes  Family History of Anxiety_Yes  \\\n",
            "0               False         True                          False   \n",
            "1               False         True                           True   \n",
            "2               False        False                           True   \n",
            "3               False         True                          False   \n",
            "4               False         True                          False   \n",
            "\n",
            "   Dizziness_Yes  Medication_Yes  Recent Major Life Event_Yes  \n",
            "0          False            True                         True  \n",
            "1           True           False                        False  \n",
            "2          False           False                         True  \n",
            "3          False           False                        False  \n",
            "4           True            True                        False  \n",
            "\n",
            "[5 rows x 32 columns]\n",
            "\n",
            "Jumlah kolom sebelum encoding: 20\n",
            "Jumlah kolom sesudah encoding: 32\n"
          ]
        }
      ]
    },
    {
      "cell_type": "markdown",
      "source": [
        "2. Normalisasi / Standarisasi Kolom Numerik\n",
        "\n",
        "Normalisasi atau standarisasi dilakukan untuk menyamakan skala antar fitur numerik sehingga tidak ada satu kolom yang mendominasi analisis atau proses pembelajaran model. Teknik ini biasanya mengubah data agar memiliki rata-rata (mean) = 0 dan standar deviasi = 1. Dengan cara ini, semua fitur numerik berada dalam rentang yang seimbang dan model machine learning dapat belajar secara optimal tanpa bias terhadap variabel dengan nilai besar."
      ],
      "metadata": {
        "id": "MufmFl7dBMZs"
      }
    },
    {
      "cell_type": "code",
      "source": [
        "print(df.columns)\n",
        "\n",
        "# =====  Buat fitur baru =====\n",
        "df['Stress_Index'] = df['Anxiety Level (1-10)'] / df['Sleep Hours']\n",
        "\n",
        "# =====  Tampilkan hasil =====\n",
        "print(\"\\n Fitur baru berhasil dibuat:\")\n",
        "print(df[['Anxiety Level (1-10)', 'Sleep Hours', 'Stress_Index']].head())"
      ],
      "metadata": {
        "colab": {
          "base_uri": "https://localhost:8080/"
        },
        "id": "Y5N0joAS_ZGF",
        "outputId": "32b6575d-1522-49f4-c92b-24b27ff93565"
      },
      "execution_count": 12,
      "outputs": [
        {
          "output_type": "stream",
          "name": "stdout",
          "text": [
            "Index(['Age', 'Gender', 'Occupation', 'Sleep Hours',\n",
            "       'Physical Activity (hrs/week)', 'Caffeine Intake (mg/day)',\n",
            "       'Alcohol Consumption (drinks/week)', 'Smoking',\n",
            "       'Family History of Anxiety', 'Stress Level (1-10)', 'Heart Rate (bpm)',\n",
            "       'Breathing Rate (breaths/min)', 'Sweating Level (1-5)', 'Dizziness',\n",
            "       'Medication', 'Therapy Sessions (per month)', 'Recent Major Life Event',\n",
            "       'Diet Quality (1-10)', 'Anxiety Level (1-10)', 'Stress_Index'],\n",
            "      dtype='object')\n",
            "\n",
            " Fitur baru berhasil dibuat:\n",
            "   Anxiety Level (1-10)  Sleep Hours  Stress_Index\n",
            "0                 0.500     0.387097      1.291667\n",
            "1                 0.250     0.419355      0.596154\n",
            "2                 0.000     0.225806      0.000000\n",
            "3                 0.125     0.354839      0.352273\n",
            "4                 0.000     0.741935      0.000000\n"
          ]
        }
      ]
    },
    {
      "cell_type": "markdown",
      "source": [
        "4. Feature Engineering (Minimal 1 Fitur Baru)\n",
        "\n",
        "Feature engineering adalah proses menciptakan fitur baru dari data yang ada untuk meningkatkan kemampuan model dalam mengenali pola. Misalnya, membuat fitur baru bernama Stress_Index dari pembagian antara “Anxiety Level” dan “Sleep Hours” untuk merepresentasikan tingkat stres seseorang. Tahap ini penting karena fitur baru yang informatif dapat meningkatkan akurasi dan interpretabilitas hasil analisis atau prediksi."
      ],
      "metadata": {
        "id": "5slD74AEBQxc"
      }
    },
    {
      "cell_type": "code",
      "source": [
        "target_col = 'Anxiety Level (1-10)'\n",
        "\n",
        "# =====  Pisahkan fitur (X) dan target (y) =====\n",
        "X = df.drop(columns=[target_col])\n",
        "y = df[target_col]\n",
        "\n",
        "# =====  Split data menjadi training dan testing =====\n",
        "X_train, X_test, y_train, y_test = train_test_split(\n",
        "    X, y,\n",
        "    test_size=0.2,       # 20% data untuk testing\n",
        "    random_state=42      # agar hasil pembagian selalu sama\n",
        ")\n",
        "\n",
        "# ===== Cek hasil =====\n",
        "print(\"Jumlah data training:\", X_train.shape[0])\n",
        "print(\"Jumlah data testing :\", X_test.shape[0])\n",
        "print(\"\\n Data berhasil dibagi menjadi training dan testing.\")"
      ],
      "metadata": {
        "colab": {
          "base_uri": "https://localhost:8080/"
        },
        "id": "Yk8wFaIR_6nW",
        "outputId": "b006dc47-325f-4214-c855-73ddc03120b6"
      },
      "execution_count": 18,
      "outputs": [
        {
          "output_type": "stream",
          "name": "stdout",
          "text": [
            "Jumlah data training: 8333\n",
            "Jumlah data testing : 2084\n",
            "\n",
            " Data berhasil dibagi menjadi training dan testing.\n"
          ]
        }
      ]
    },
    {
      "cell_type": "markdown",
      "source": [
        "5. Splitting Data ke dalam Data Training & Data Testing\n",
        "\n",
        "Pembagian dataset menjadi data training dan testing dilakukan untuk menilai kinerja model secara objektif. Biasanya, 80% data digunakan untuk training agar model dapat belajar pola dari data, sementara 20% sisanya digunakan untuk testing guna menguji seberapa baik model mampu memprediksi data baru yang belum pernah dilihat. Langkah ini penting untuk mencegah overfitting dan memastikan model memiliki kemampuan generalisasi yang baik."
      ],
      "metadata": {
        "id": "ACh8HXZKBZe1"
      }
    }
  ]
}